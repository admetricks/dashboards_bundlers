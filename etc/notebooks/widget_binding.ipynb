{
 "cells": [
  {
   "cell_type": "markdown",
   "metadata": {
    "urth": {
     "dashboard": {
      "layout": {
       "col": 0,
       "height": 4,
       "row": 0,
       "width": 4
      }
     }
    }
   },
   "source": [
    "Enter text in the box. The label should update."
   ]
  },
  {
   "cell_type": "code",
   "execution_count": null,
   "metadata": {
    "collapsed": false,
    "urth": {
     "dashboard": {
      "hidden": true,
      "layout": {}
     }
    }
   },
   "outputs": [],
   "source": [
    "try:\n",
    "    # declwidgets 0.6.0+\n",
    "    import declarativewidgets\n",
    "    declarativewidgets.init()\n",
    "except ImportError:\n",
    "    # declwidgets<0.6.0\n",
    "    pass"
   ]
  },
  {
   "cell_type": "code",
   "execution_count": null,
   "metadata": {
    "collapsed": false,
    "urth": {
     "dashboard": {
      "layout": {
       "col": 4,
       "height": 4,
       "row": 0,
       "width": 5
      }
     }
    }
   },
   "outputs": [],
   "source": [
    "%%html\n",
    "<template is='urth-core-bind'>\n",
    "    <div>Hello <span>{{user}}</span></div>\n",
    "    Name: <input value='{{user::input}}'></input>\n",
    "</template>"
   ]
  }
 ],
 "metadata": {
  "kernelspec": {
   "display_name": "Python 3",
   "language": "python",
   "name": "python3"
  },
  "language_info": {
   "codemirror_mode": {
    "name": "ipython",
    "version": 3
   },
   "file_extension": ".py",
   "mimetype": "text/x-python",
   "name": "python",
   "nbconvert_exporter": "python",
   "pygments_lexer": "ipython3",
   "version": "3.5.1"
  },
  "urth": {
   "dashboard": {
    "cellMargin": 10,
    "defaultCellHeight": 20,
    "layout": "grid",
    "layoutStrategy": "packed",
    "maxColumns": 12
   }
  },
  "widgets": {
   "state": {},
   "version": "1.1.2"
  }
 },
 "nbformat": 4,
 "nbformat_minor": 0
}
